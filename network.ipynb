{
 "cells": [
  {
   "cell_type": "code",
   "execution_count": 1,
   "metadata": {},
   "outputs": [],
   "source": [
    "import numpy as np\n",
    "import pandas as pd\n",
    "import matplotlib.pyplot as plt"
   ]
  },
  {
   "cell_type": "code",
   "execution_count": 2,
   "metadata": {},
   "outputs": [],
   "source": [
    "data = pd.read_csv('data/network_data.csv')"
   ]
  },
  {
   "cell_type": "code",
   "execution_count": 3,
   "metadata": {
    "scrolled": true
   },
   "outputs": [
    {
     "data": {
      "text/html": [
       "<div>\n",
       "<style scoped>\n",
       "    .dataframe tbody tr th:only-of-type {\n",
       "        vertical-align: middle;\n",
       "    }\n",
       "\n",
       "    .dataframe tbody tr th {\n",
       "        vertical-align: top;\n",
       "    }\n",
       "\n",
       "    .dataframe thead th {\n",
       "        text-align: right;\n",
       "    }\n",
       "</style>\n",
       "<table border=\"1\" class=\"dataframe\">\n",
       "  <thead>\n",
       "    <tr style=\"text-align: right;\">\n",
       "      <th></th>\n",
       "      <th>name</th>\n",
       "      <th>time</th>\n",
       "      <th>ByteCount</th>\n",
       "      <th>FlowCount</th>\n",
       "      <th>PacketCount</th>\n",
       "      <th>dpid</th>\n",
       "    </tr>\n",
       "  </thead>\n",
       "  <tbody>\n",
       "    <tr>\n",
       "      <th>0</th>\n",
       "      <td>aggregate_stats</td>\n",
       "      <td>1549584000539375839</td>\n",
       "      <td>505220866144036</td>\n",
       "      <td>28</td>\n",
       "      <td>-1</td>\n",
       "      <td>2038063737059428907</td>\n",
       "    </tr>\n",
       "    <tr>\n",
       "      <th>1</th>\n",
       "      <td>aggregate_stats</td>\n",
       "      <td>1549584000618361519</td>\n",
       "      <td>290151965558460</td>\n",
       "      <td>27</td>\n",
       "      <td>-1</td>\n",
       "      <td>2037944993634475373</td>\n",
       "    </tr>\n",
       "    <tr>\n",
       "      <th>2</th>\n",
       "      <td>aggregate_stats</td>\n",
       "      <td>1549584000742710886</td>\n",
       "      <td>341031909558944</td>\n",
       "      <td>27</td>\n",
       "      <td>-1</td>\n",
       "      <td>2037944993634476261</td>\n",
       "    </tr>\n",
       "    <tr>\n",
       "      <th>3</th>\n",
       "      <td>aggregate_stats</td>\n",
       "      <td>1549584001529267179</td>\n",
       "      <td>505220885728120</td>\n",
       "      <td>28</td>\n",
       "      <td>-1</td>\n",
       "      <td>2038063737059428907</td>\n",
       "    </tr>\n",
       "    <tr>\n",
       "      <th>4</th>\n",
       "      <td>aggregate_stats</td>\n",
       "      <td>1549584001618192040</td>\n",
       "      <td>290151973329084</td>\n",
       "      <td>27</td>\n",
       "      <td>-1</td>\n",
       "      <td>2037944993634475373</td>\n",
       "    </tr>\n",
       "  </tbody>\n",
       "</table>\n",
       "</div>"
      ],
      "text/plain": [
       "              name                 time        ByteCount  FlowCount  \\\n",
       "0  aggregate_stats  1549584000539375839  505220866144036         28   \n",
       "1  aggregate_stats  1549584000618361519  290151965558460         27   \n",
       "2  aggregate_stats  1549584000742710886  341031909558944         27   \n",
       "3  aggregate_stats  1549584001529267179  505220885728120         28   \n",
       "4  aggregate_stats  1549584001618192040  290151973329084         27   \n",
       "\n",
       "   PacketCount                 dpid  \n",
       "0           -1  2038063737059428907  \n",
       "1           -1  2037944993634475373  \n",
       "2           -1  2037944993634476261  \n",
       "3           -1  2038063737059428907  \n",
       "4           -1  2037944993634475373  "
      ]
     },
     "execution_count": 3,
     "metadata": {},
     "output_type": "execute_result"
    }
   ],
   "source": [
    "data.head()"
   ]
  },
  {
   "cell_type": "code",
   "execution_count": 4,
   "metadata": {},
   "outputs": [
    {
     "name": "stdout",
     "output_type": "stream",
     "text": [
      "<class 'pandas.core.frame.DataFrame'>\n",
      "RangeIndex: 7803314 entries, 0 to 7803313\n",
      "Data columns (total 6 columns):\n",
      "name           object\n",
      "time           int64\n",
      "ByteCount      int64\n",
      "FlowCount      int64\n",
      "PacketCount    int64\n",
      "dpid           int64\n",
      "dtypes: int64(5), object(1)\n",
      "memory usage: 357.2+ MB\n"
     ]
    }
   ],
   "source": [
    "data.info()"
   ]
  },
  {
   "cell_type": "code",
   "execution_count": 5,
   "metadata": {},
   "outputs": [],
   "source": [
    "data['time'] = pd.to_datetime(data['time'],unit='ns')"
   ]
  },
  {
   "cell_type": "code",
   "execution_count": 7,
   "metadata": {},
   "outputs": [
    {
     "data": {
      "text/html": [
       "<div>\n",
       "<style scoped>\n",
       "    .dataframe tbody tr th:only-of-type {\n",
       "        vertical-align: middle;\n",
       "    }\n",
       "\n",
       "    .dataframe tbody tr th {\n",
       "        vertical-align: top;\n",
       "    }\n",
       "\n",
       "    .dataframe thead th {\n",
       "        text-align: right;\n",
       "    }\n",
       "</style>\n",
       "<table border=\"1\" class=\"dataframe\">\n",
       "  <thead>\n",
       "    <tr style=\"text-align: right;\">\n",
       "      <th></th>\n",
       "      <th>name</th>\n",
       "      <th>time</th>\n",
       "      <th>ByteCount</th>\n",
       "      <th>FlowCount</th>\n",
       "      <th>PacketCount</th>\n",
       "      <th>dpid</th>\n",
       "    </tr>\n",
       "  </thead>\n",
       "  <tbody>\n",
       "    <tr>\n",
       "      <th>7803309</th>\n",
       "      <td>aggregate_stats</td>\n",
       "      <td>2019-03-10 05:08:26.187491172</td>\n",
       "      <td>365382373224204</td>\n",
       "      <td>27</td>\n",
       "      <td>-1</td>\n",
       "      <td>2037944993634475373</td>\n",
       "    </tr>\n",
       "    <tr>\n",
       "      <th>7803310</th>\n",
       "      <td>aggregate_stats</td>\n",
       "      <td>2019-03-10 05:08:26.950679181</td>\n",
       "      <td>617981692855968</td>\n",
       "      <td>28</td>\n",
       "      <td>-1</td>\n",
       "      <td>2038063737059428907</td>\n",
       "    </tr>\n",
       "    <tr>\n",
       "      <th>7803311</th>\n",
       "      <td>aggregate_stats</td>\n",
       "      <td>2019-03-10 05:08:27.030483556</td>\n",
       "      <td>429164364052488</td>\n",
       "      <td>27</td>\n",
       "      <td>-1</td>\n",
       "      <td>2037944993634476261</td>\n",
       "    </tr>\n",
       "    <tr>\n",
       "      <th>7803312</th>\n",
       "      <td>aggregate_stats</td>\n",
       "      <td>2019-03-10 05:08:27.187426142</td>\n",
       "      <td>365382375469540</td>\n",
       "      <td>27</td>\n",
       "      <td>-1</td>\n",
       "      <td>2037944993634475373</td>\n",
       "    </tr>\n",
       "    <tr>\n",
       "      <th>7803313</th>\n",
       "      <td>aggregate_stats</td>\n",
       "      <td>2019-03-10 05:08:27.950719458</td>\n",
       "      <td>617981696843134</td>\n",
       "      <td>28</td>\n",
       "      <td>-1</td>\n",
       "      <td>2038063737059428907</td>\n",
       "    </tr>\n",
       "  </tbody>\n",
       "</table>\n",
       "</div>"
      ],
      "text/plain": [
       "                    name                          time        ByteCount  \\\n",
       "7803309  aggregate_stats 2019-03-10 05:08:26.187491172  365382373224204   \n",
       "7803310  aggregate_stats 2019-03-10 05:08:26.950679181  617981692855968   \n",
       "7803311  aggregate_stats 2019-03-10 05:08:27.030483556  429164364052488   \n",
       "7803312  aggregate_stats 2019-03-10 05:08:27.187426142  365382375469540   \n",
       "7803313  aggregate_stats 2019-03-10 05:08:27.950719458  617981696843134   \n",
       "\n",
       "         FlowCount  PacketCount                 dpid  \n",
       "7803309         27           -1  2037944993634475373  \n",
       "7803310         28           -1  2038063737059428907  \n",
       "7803311         27           -1  2037944993634476261  \n",
       "7803312         27           -1  2037944993634475373  \n",
       "7803313         28           -1  2038063737059428907  "
      ]
     },
     "execution_count": 7,
     "metadata": {},
     "output_type": "execute_result"
    }
   ],
   "source": [
    "data.tail()"
   ]
  },
  {
   "cell_type": "code",
   "execution_count": null,
   "metadata": {},
   "outputs": [],
   "source": []
  }
 ],
 "metadata": {
  "kernelspec": {
   "display_name": "Python 3",
   "language": "python",
   "name": "python3"
  },
  "language_info": {
   "codemirror_mode": {
    "name": "ipython",
    "version": 3
   },
   "file_extension": ".py",
   "mimetype": "text/x-python",
   "name": "python",
   "nbconvert_exporter": "python",
   "pygments_lexer": "ipython3",
   "version": "3.7.1"
  }
 },
 "nbformat": 4,
 "nbformat_minor": 2
}
