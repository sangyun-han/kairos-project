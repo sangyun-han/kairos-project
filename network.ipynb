{
 "cells": [
  {
   "cell_type": "code",
   "execution_count": 1,
   "metadata": {},
   "outputs": [],
   "source": [
    "import numpy as np\n",
    "import pandas as pd\n",
    "import matplotlib.pyplot as plt\n",
    "from fbprophet import Prophet"
   ]
  },
  {
   "cell_type": "code",
   "execution_count": 2,
   "metadata": {},
   "outputs": [],
   "source": [
    "data = pd.read_csv('data/network_data.csv')"
   ]
  },
  {
   "cell_type": "code",
   "execution_count": 3,
   "metadata": {
    "scrolled": true
   },
   "outputs": [
    {
     "data": {
      "text/html": [
       "<div>\n",
       "<style scoped>\n",
       "    .dataframe tbody tr th:only-of-type {\n",
       "        vertical-align: middle;\n",
       "    }\n",
       "\n",
       "    .dataframe tbody tr th {\n",
       "        vertical-align: top;\n",
       "    }\n",
       "\n",
       "    .dataframe thead th {\n",
       "        text-align: right;\n",
       "    }\n",
       "</style>\n",
       "<table border=\"1\" class=\"dataframe\">\n",
       "  <thead>\n",
       "    <tr style=\"text-align: right;\">\n",
       "      <th></th>\n",
       "      <th>name</th>\n",
       "      <th>time</th>\n",
       "      <th>ByteCount</th>\n",
       "      <th>FlowCount</th>\n",
       "      <th>PacketCount</th>\n",
       "      <th>dpid</th>\n",
       "    </tr>\n",
       "  </thead>\n",
       "  <tbody>\n",
       "    <tr>\n",
       "      <th>0</th>\n",
       "      <td>aggregate_stats</td>\n",
       "      <td>1549584000539375839</td>\n",
       "      <td>505220866144036</td>\n",
       "      <td>28</td>\n",
       "      <td>-1</td>\n",
       "      <td>2038063737059428907</td>\n",
       "    </tr>\n",
       "    <tr>\n",
       "      <th>1</th>\n",
       "      <td>aggregate_stats</td>\n",
       "      <td>1549584000618361519</td>\n",
       "      <td>290151965558460</td>\n",
       "      <td>27</td>\n",
       "      <td>-1</td>\n",
       "      <td>2037944993634475373</td>\n",
       "    </tr>\n",
       "    <tr>\n",
       "      <th>2</th>\n",
       "      <td>aggregate_stats</td>\n",
       "      <td>1549584000742710886</td>\n",
       "      <td>341031909558944</td>\n",
       "      <td>27</td>\n",
       "      <td>-1</td>\n",
       "      <td>2037944993634476261</td>\n",
       "    </tr>\n",
       "    <tr>\n",
       "      <th>3</th>\n",
       "      <td>aggregate_stats</td>\n",
       "      <td>1549584001529267179</td>\n",
       "      <td>505220885728120</td>\n",
       "      <td>28</td>\n",
       "      <td>-1</td>\n",
       "      <td>2038063737059428907</td>\n",
       "    </tr>\n",
       "    <tr>\n",
       "      <th>4</th>\n",
       "      <td>aggregate_stats</td>\n",
       "      <td>1549584001618192040</td>\n",
       "      <td>290151973329084</td>\n",
       "      <td>27</td>\n",
       "      <td>-1</td>\n",
       "      <td>2037944993634475373</td>\n",
       "    </tr>\n",
       "  </tbody>\n",
       "</table>\n",
       "</div>"
      ],
      "text/plain": [
       "              name                 time        ByteCount  FlowCount  \\\n",
       "0  aggregate_stats  1549584000539375839  505220866144036         28   \n",
       "1  aggregate_stats  1549584000618361519  290151965558460         27   \n",
       "2  aggregate_stats  1549584000742710886  341031909558944         27   \n",
       "3  aggregate_stats  1549584001529267179  505220885728120         28   \n",
       "4  aggregate_stats  1549584001618192040  290151973329084         27   \n",
       "\n",
       "   PacketCount                 dpid  \n",
       "0           -1  2038063737059428907  \n",
       "1           -1  2037944993634475373  \n",
       "2           -1  2037944993634476261  \n",
       "3           -1  2038063737059428907  \n",
       "4           -1  2037944993634475373  "
      ]
     },
     "execution_count": 3,
     "metadata": {},
     "output_type": "execute_result"
    }
   ],
   "source": [
    "data.head()"
   ]
  },
  {
   "cell_type": "code",
   "execution_count": 4,
   "metadata": {},
   "outputs": [
    {
     "name": "stdout",
     "output_type": "stream",
     "text": [
      "<class 'pandas.core.frame.DataFrame'>\n",
      "RangeIndex: 7803314 entries, 0 to 7803313\n",
      "Data columns (total 6 columns):\n",
      "name           object\n",
      "time           int64\n",
      "ByteCount      int64\n",
      "FlowCount      int64\n",
      "PacketCount    int64\n",
      "dpid           int64\n",
      "dtypes: int64(5), object(1)\n",
      "memory usage: 357.2+ MB\n"
     ]
    }
   ],
   "source": [
    "data.info()"
   ]
  },
  {
   "cell_type": "code",
   "execution_count": 5,
   "metadata": {},
   "outputs": [],
   "source": [
    "data['time'] = pd.to_datetime(data['time'],unit='ns')"
   ]
  },
  {
   "cell_type": "code",
   "execution_count": 6,
   "metadata": {},
   "outputs": [
    {
     "data": {
      "text/html": [
       "<div>\n",
       "<style scoped>\n",
       "    .dataframe tbody tr th:only-of-type {\n",
       "        vertical-align: middle;\n",
       "    }\n",
       "\n",
       "    .dataframe tbody tr th {\n",
       "        vertical-align: top;\n",
       "    }\n",
       "\n",
       "    .dataframe thead th {\n",
       "        text-align: right;\n",
       "    }\n",
       "</style>\n",
       "<table border=\"1\" class=\"dataframe\">\n",
       "  <thead>\n",
       "    <tr style=\"text-align: right;\">\n",
       "      <th></th>\n",
       "      <th>name</th>\n",
       "      <th>time</th>\n",
       "      <th>ByteCount</th>\n",
       "      <th>FlowCount</th>\n",
       "      <th>PacketCount</th>\n",
       "      <th>dpid</th>\n",
       "    </tr>\n",
       "  </thead>\n",
       "  <tbody>\n",
       "    <tr>\n",
       "      <th>7803309</th>\n",
       "      <td>aggregate_stats</td>\n",
       "      <td>2019-03-10 05:08:26.187491172</td>\n",
       "      <td>365382373224204</td>\n",
       "      <td>27</td>\n",
       "      <td>-1</td>\n",
       "      <td>2037944993634475373</td>\n",
       "    </tr>\n",
       "    <tr>\n",
       "      <th>7803310</th>\n",
       "      <td>aggregate_stats</td>\n",
       "      <td>2019-03-10 05:08:26.950679181</td>\n",
       "      <td>617981692855968</td>\n",
       "      <td>28</td>\n",
       "      <td>-1</td>\n",
       "      <td>2038063737059428907</td>\n",
       "    </tr>\n",
       "    <tr>\n",
       "      <th>7803311</th>\n",
       "      <td>aggregate_stats</td>\n",
       "      <td>2019-03-10 05:08:27.030483556</td>\n",
       "      <td>429164364052488</td>\n",
       "      <td>27</td>\n",
       "      <td>-1</td>\n",
       "      <td>2037944993634476261</td>\n",
       "    </tr>\n",
       "    <tr>\n",
       "      <th>7803312</th>\n",
       "      <td>aggregate_stats</td>\n",
       "      <td>2019-03-10 05:08:27.187426142</td>\n",
       "      <td>365382375469540</td>\n",
       "      <td>27</td>\n",
       "      <td>-1</td>\n",
       "      <td>2037944993634475373</td>\n",
       "    </tr>\n",
       "    <tr>\n",
       "      <th>7803313</th>\n",
       "      <td>aggregate_stats</td>\n",
       "      <td>2019-03-10 05:08:27.950719458</td>\n",
       "      <td>617981696843134</td>\n",
       "      <td>28</td>\n",
       "      <td>-1</td>\n",
       "      <td>2038063737059428907</td>\n",
       "    </tr>\n",
       "  </tbody>\n",
       "</table>\n",
       "</div>"
      ],
      "text/plain": [
       "                    name                          time        ByteCount  \\\n",
       "7803309  aggregate_stats 2019-03-10 05:08:26.187491172  365382373224204   \n",
       "7803310  aggregate_stats 2019-03-10 05:08:26.950679181  617981692855968   \n",
       "7803311  aggregate_stats 2019-03-10 05:08:27.030483556  429164364052488   \n",
       "7803312  aggregate_stats 2019-03-10 05:08:27.187426142  365382375469540   \n",
       "7803313  aggregate_stats 2019-03-10 05:08:27.950719458  617981696843134   \n",
       "\n",
       "         FlowCount  PacketCount                 dpid  \n",
       "7803309         27           -1  2037944993634475373  \n",
       "7803310         28           -1  2038063737059428907  \n",
       "7803311         27           -1  2037944993634476261  \n",
       "7803312         27           -1  2037944993634475373  \n",
       "7803313         28           -1  2038063737059428907  "
      ]
     },
     "execution_count": 6,
     "metadata": {},
     "output_type": "execute_result"
    }
   ],
   "source": [
    "data.tail()"
   ]
  },
  {
   "cell_type": "code",
   "execution_count": 7,
   "metadata": {},
   "outputs": [],
   "source": [
    "timeseries = data['ByteCount']"
   ]
  },
  {
   "cell_type": "code",
   "execution_count": 8,
   "metadata": {},
   "outputs": [],
   "source": [
    "# timeseries.rolling(12).mean().plot(label='12 mon')\n",
    "# timeseries.plot()\n",
    "# plt.legend()"
   ]
  },
  {
   "cell_type": "code",
   "execution_count": 9,
   "metadata": {},
   "outputs": [],
   "source": [
    "grouped = data['ByteCount'].groupby(data['dpid'])"
   ]
  },
  {
   "cell_type": "code",
   "execution_count": 10,
   "metadata": {},
   "outputs": [
    {
     "data": {
      "text/plain": [
       "dpid\n",
       "2037944993634475373    3.246977e+14\n",
       "2037944993634476261    3.844291e+14\n",
       "2038063737059428907    5.596954e+14\n",
       "Name: ByteCount, dtype: float64"
      ]
     },
     "execution_count": 10,
     "metadata": {},
     "output_type": "execute_result"
    }
   ],
   "source": [
    "grouped.mean()"
   ]
  },
  {
   "cell_type": "code",
   "execution_count": 11,
   "metadata": {},
   "outputs": [],
   "source": [
    "dpid1 = data['dpid'] == 2037944993634475373"
   ]
  },
  {
   "cell_type": "code",
   "execution_count": 12,
   "metadata": {
    "scrolled": false
   },
   "outputs": [
    {
     "data": {
      "text/html": [
       "<div>\n",
       "<style scoped>\n",
       "    .dataframe tbody tr th:only-of-type {\n",
       "        vertical-align: middle;\n",
       "    }\n",
       "\n",
       "    .dataframe tbody tr th {\n",
       "        vertical-align: top;\n",
       "    }\n",
       "\n",
       "    .dataframe thead th {\n",
       "        text-align: right;\n",
       "    }\n",
       "</style>\n",
       "<table border=\"1\" class=\"dataframe\">\n",
       "  <thead>\n",
       "    <tr style=\"text-align: right;\">\n",
       "      <th></th>\n",
       "      <th>name</th>\n",
       "      <th>time</th>\n",
       "      <th>ByteCount</th>\n",
       "      <th>FlowCount</th>\n",
       "      <th>PacketCount</th>\n",
       "      <th>dpid</th>\n",
       "    </tr>\n",
       "  </thead>\n",
       "  <tbody>\n",
       "    <tr>\n",
       "      <th>1</th>\n",
       "      <td>aggregate_stats</td>\n",
       "      <td>2019-02-08 00:00:00.618361519</td>\n",
       "      <td>290151965558460</td>\n",
       "      <td>27</td>\n",
       "      <td>-1</td>\n",
       "      <td>2037944993634475373</td>\n",
       "    </tr>\n",
       "    <tr>\n",
       "      <th>4</th>\n",
       "      <td>aggregate_stats</td>\n",
       "      <td>2019-02-08 00:00:01.618192040</td>\n",
       "      <td>290151973329084</td>\n",
       "      <td>27</td>\n",
       "      <td>-1</td>\n",
       "      <td>2037944993634475373</td>\n",
       "    </tr>\n",
       "    <tr>\n",
       "      <th>7</th>\n",
       "      <td>aggregate_stats</td>\n",
       "      <td>2019-02-08 00:00:02.618220910</td>\n",
       "      <td>290152028385576</td>\n",
       "      <td>27</td>\n",
       "      <td>-1</td>\n",
       "      <td>2037944993634475373</td>\n",
       "    </tr>\n",
       "    <tr>\n",
       "      <th>10</th>\n",
       "      <td>aggregate_stats</td>\n",
       "      <td>2019-02-08 00:00:03.618122116</td>\n",
       "      <td>290152038823560</td>\n",
       "      <td>27</td>\n",
       "      <td>-1</td>\n",
       "      <td>2037944993634475373</td>\n",
       "    </tr>\n",
       "    <tr>\n",
       "      <th>13</th>\n",
       "      <td>aggregate_stats</td>\n",
       "      <td>2019-02-08 00:00:04.618005071</td>\n",
       "      <td>290152090553516</td>\n",
       "      <td>27</td>\n",
       "      <td>-1</td>\n",
       "      <td>2037944993634475373</td>\n",
       "    </tr>\n",
       "  </tbody>\n",
       "</table>\n",
       "</div>"
      ],
      "text/plain": [
       "               name                          time        ByteCount  FlowCount  \\\n",
       "1   aggregate_stats 2019-02-08 00:00:00.618361519  290151965558460         27   \n",
       "4   aggregate_stats 2019-02-08 00:00:01.618192040  290151973329084         27   \n",
       "7   aggregate_stats 2019-02-08 00:00:02.618220910  290152028385576         27   \n",
       "10  aggregate_stats 2019-02-08 00:00:03.618122116  290152038823560         27   \n",
       "13  aggregate_stats 2019-02-08 00:00:04.618005071  290152090553516         27   \n",
       "\n",
       "    PacketCount                 dpid  \n",
       "1            -1  2037944993634475373  \n",
       "4            -1  2037944993634475373  \n",
       "7            -1  2037944993634475373  \n",
       "10           -1  2037944993634475373  \n",
       "13           -1  2037944993634475373  "
      ]
     },
     "execution_count": 12,
     "metadata": {},
     "output_type": "execute_result"
    }
   ],
   "source": [
    "data_dpid1 = data[dpid1]\n",
    "data_dpid1.head()"
   ]
  },
  {
   "cell_type": "code",
   "execution_count": 13,
   "metadata": {
    "scrolled": true
   },
   "outputs": [
    {
     "name": "stderr",
     "output_type": "stream",
     "text": [
      "/Users/sangyun_han/timeseries/lib/python3.7/site-packages/pandas/plotting/_converter.py:129: FutureWarning: Using an implicitly registered datetime converter for a matplotlib plotting method. The converter was registered by pandas on import. Future versions of pandas will require you to explicitly register matplotlib converters.\n",
      "\n",
      "To register the converters:\n",
      "\t>>> from pandas.plotting import register_matplotlib_converters\n",
      "\t>>> register_matplotlib_converters()\n",
      "  warnings.warn(msg, FutureWarning)\n"
     ]
    },
    {
     "data": {
      "image/png": "[encoded data removed]",
      "text/plain": [
       "<Figure size 864x576 with 1 Axes>"
      ]
     },
     "metadata": {
      "needs_background": "light"
     },
     "output_type": "display_data"
    }
   ],
   "source": [
    "plt.figure(figsize=(12, 8))\n",
    "plt.plot(data_dpid1['time'], data_dpid1['ByteCount'].diff())\n",
    "plt.show()"
   ]
  },
  {
   "cell_type": "code",
   "execution_count": 14,
   "metadata": {},
   "outputs": [
    {
     "data": {
      "text/plain": [
       "1            NaN\n",
       "4      7770624.0\n",
       "7     55056492.0\n",
       "10    10437984.0\n",
       "13    51729956.0\n",
       "Name: ByteCount, dtype: float64"
      ]
     },
     "execution_count": 14,
     "metadata": {},
     "output_type": "execute_result"
    }
   ],
   "source": [
    "data_dpid1['ByteCount'].diff().head()"
   ]
  },
  {
   "cell_type": "code",
   "execution_count": 15,
   "metadata": {},
   "outputs": [],
   "source": [
    "traffic_data = {'ds':data_dpid1['time'], 'y':data_dpid1['ByteCount'].diff()}"
   ]
  },
  {
   "cell_type": "code",
   "execution_count": 16,
   "metadata": {},
   "outputs": [],
   "source": [
    "traffic_df = pd.DataFrame(traffic_data)"
   ]
  },
  {
   "cell_type": "code",
   "execution_count": 17,
   "metadata": {},
   "outputs": [
    {
     "data": {
      "text/html": [
       "<div>\n",
       "<style scoped>\n",
       "    .dataframe tbody tr th:only-of-type {\n",
       "        vertical-align: middle;\n",
       "    }\n",
       "\n",
       "    .dataframe tbody tr th {\n",
       "        vertical-align: top;\n",
       "    }\n",
       "\n",
       "    .dataframe thead th {\n",
       "        text-align: right;\n",
       "    }\n",
       "</style>\n",
       "<table border=\"1\" class=\"dataframe\">\n",
       "  <thead>\n",
       "    <tr style=\"text-align: right;\">\n",
       "      <th></th>\n",
       "      <th>ds</th>\n",
       "      <th>y</th>\n",
       "    </tr>\n",
       "  </thead>\n",
       "  <tbody>\n",
       "    <tr>\n",
       "      <th>7803300</th>\n",
       "      <td>2019-03-10 05:08:23.187733445</td>\n",
       "      <td>779664.0</td>\n",
       "    </tr>\n",
       "    <tr>\n",
       "      <th>7803303</th>\n",
       "      <td>2019-03-10 05:08:24.187407073</td>\n",
       "      <td>1489440.0</td>\n",
       "    </tr>\n",
       "    <tr>\n",
       "      <th>7803306</th>\n",
       "      <td>2019-03-10 05:08:25.187444166</td>\n",
       "      <td>1210204.0</td>\n",
       "    </tr>\n",
       "    <tr>\n",
       "      <th>7803309</th>\n",
       "      <td>2019-03-10 05:08:26.187491172</td>\n",
       "      <td>1992704.0</td>\n",
       "    </tr>\n",
       "    <tr>\n",
       "      <th>7803312</th>\n",
       "      <td>2019-03-10 05:08:27.187426142</td>\n",
       "      <td>2245336.0</td>\n",
       "    </tr>\n",
       "  </tbody>\n",
       "</table>\n",
       "</div>"
      ],
      "text/plain": [
       "                                   ds          y\n",
       "7803300 2019-03-10 05:08:23.187733445   779664.0\n",
       "7803303 2019-03-10 05:08:24.187407073  1489440.0\n",
       "7803306 2019-03-10 05:08:25.187444166  1210204.0\n",
       "7803309 2019-03-10 05:08:26.187491172  1992704.0\n",
       "7803312 2019-03-10 05:08:27.187426142  2245336.0"
      ]
     },
     "execution_count": 17,
     "metadata": {},
     "output_type": "execute_result"
    }
   ],
   "source": [
    "traffic_df.tail()"
   ]
  },
  {
   "cell_type": "code",
   "execution_count": 28,
   "metadata": {},
   "outputs": [
    {
     "data": {
      "text/html": [
       "<div>\n",
       "<style scoped>\n",
       "    .dataframe tbody tr th:only-of-type {\n",
       "        vertical-align: middle;\n",
       "    }\n",
       "\n",
       "    .dataframe tbody tr th {\n",
       "        vertical-align: top;\n",
       "    }\n",
       "\n",
       "    .dataframe thead th {\n",
       "        text-align: right;\n",
       "    }\n",
       "</style>\n",
       "<table border=\"1\" class=\"dataframe\">\n",
       "  <thead>\n",
       "    <tr style=\"text-align: right;\">\n",
       "      <th></th>\n",
       "      <th>ds</th>\n",
       "      <th>y</th>\n",
       "    </tr>\n",
       "  </thead>\n",
       "  <tbody>\n",
       "    <tr>\n",
       "      <th>2986</th>\n",
       "      <td>2019-02-08 00:16:35.618423571</td>\n",
       "      <td>7328600.0</td>\n",
       "    </tr>\n",
       "    <tr>\n",
       "      <th>2989</th>\n",
       "      <td>2019-02-08 00:16:36.618676343</td>\n",
       "      <td>5662056.0</td>\n",
       "    </tr>\n",
       "    <tr>\n",
       "      <th>2992</th>\n",
       "      <td>2019-02-08 00:16:37.618211341</td>\n",
       "      <td>16206928.0</td>\n",
       "    </tr>\n",
       "    <tr>\n",
       "      <th>2995</th>\n",
       "      <td>2019-02-08 00:16:38.618172217</td>\n",
       "      <td>13277000.0</td>\n",
       "    </tr>\n",
       "    <tr>\n",
       "      <th>2998</th>\n",
       "      <td>2019-02-08 00:16:39.618464454</td>\n",
       "      <td>7868416.0</td>\n",
       "    </tr>\n",
       "  </tbody>\n",
       "</table>\n",
       "</div>"
      ],
      "text/plain": [
       "                                ds           y\n",
       "2986 2019-02-08 00:16:35.618423571   7328600.0\n",
       "2989 2019-02-08 00:16:36.618676343   5662056.0\n",
       "2992 2019-02-08 00:16:37.618211341  16206928.0\n",
       "2995 2019-02-08 00:16:38.618172217  13277000.0\n",
       "2998 2019-02-08 00:16:39.618464454   7868416.0"
      ]
     },
     "execution_count": 28,
     "metadata": {},
     "output_type": "execute_result"
    }
   ],
   "source": [
    "traffic_df1 = traffic_df[0:1000]\n",
    "traffic_df1.tail()"
   ]
  },
  {
   "cell_type": "code",
   "execution_count": 29,
   "metadata": {},
   "outputs": [
    {
     "name": "stderr",
     "output_type": "stream",
     "text": [
      "/Users/sangyun_han/timeseries/lib/python3.7/site-packages/fbprophet/forecaster.py:880: FutureWarning: Series.nonzero() is deprecated and will be removed in a future version.Use Series.to_numpy().nonzero() instead\n",
      "  min_dt = dt.iloc[dt.nonzero()[0]].min()\n",
      "INFO:fbprophet:Disabling yearly seasonality. Run prophet with yearly_seasonality=True to override this.\n",
      "INFO:fbprophet:Disabling weekly seasonality. Run prophet with weekly_seasonality=True to override this.\n",
      "INFO:fbprophet:Disabling daily seasonality. Run prophet with daily_seasonality=True to override this.\n"
     ]
    },
    {
     "data": {
      "text/plain": [
       "<fbprophet.forecaster.Prophet at 0x1446a87f0>"
      ]
     },
     "execution_count": 29,
     "metadata": {},
     "output_type": "execute_result"
    }
   ],
   "source": [
    "m = Prophet()\n",
    "m.fit(traffic_df1)"
   ]
  },
  {
   "cell_type": "code",
   "execution_count": 30,
   "metadata": {},
   "outputs": [
    {
     "data": {
      "text/html": [
       "<div>\n",
       "<style scoped>\n",
       "    .dataframe tbody tr th:only-of-type {\n",
       "        vertical-align: middle;\n",
       "    }\n",
       "\n",
       "    .dataframe tbody tr th {\n",
       "        vertical-align: top;\n",
       "    }\n",
       "\n",
       "    .dataframe thead th {\n",
       "        text-align: right;\n",
       "    }\n",
       "</style>\n",
       "<table border=\"1\" class=\"dataframe\">\n",
       "  <thead>\n",
       "    <tr style=\"text-align: right;\">\n",
       "      <th></th>\n",
       "      <th>ds</th>\n",
       "    </tr>\n",
       "  </thead>\n",
       "  <tbody>\n",
       "    <tr>\n",
       "      <th>1005</th>\n",
       "      <td>2019-02-14 00:16:39.618464454</td>\n",
       "    </tr>\n",
       "    <tr>\n",
       "      <th>1006</th>\n",
       "      <td>2019-02-15 00:16:39.618464454</td>\n",
       "    </tr>\n",
       "    <tr>\n",
       "      <th>1007</th>\n",
       "      <td>2019-02-16 00:16:39.618464454</td>\n",
       "    </tr>\n",
       "    <tr>\n",
       "      <th>1008</th>\n",
       "      <td>2019-02-17 00:16:39.618464454</td>\n",
       "    </tr>\n",
       "    <tr>\n",
       "      <th>1009</th>\n",
       "      <td>2019-02-18 00:16:39.618464454</td>\n",
       "    </tr>\n",
       "  </tbody>\n",
       "</table>\n",
       "</div>"
      ],
      "text/plain": [
       "                                ds\n",
       "1005 2019-02-14 00:16:39.618464454\n",
       "1006 2019-02-15 00:16:39.618464454\n",
       "1007 2019-02-16 00:16:39.618464454\n",
       "1008 2019-02-17 00:16:39.618464454\n",
       "1009 2019-02-18 00:16:39.618464454"
      ]
     },
     "execution_count": 30,
     "metadata": {},
     "output_type": "execute_result"
    }
   ],
   "source": [
    "future = m.make_future_dataframe(periods=10)\n",
    "future.tail()"
   ]
  },
  {
   "cell_type": "code",
   "execution_count": 31,
   "metadata": {},
   "outputs": [],
   "source": [
    "forecast = m.predict(future)"
   ]
  },
  {
   "cell_type": "code",
   "execution_count": 32,
   "metadata": {},
   "outputs": [
    {
     "data": {
      "text/html": [
       "<div>\n",
       "<style scoped>\n",
       "    .dataframe tbody tr th:only-of-type {\n",
       "        vertical-align: middle;\n",
       "    }\n",
       "\n",
       "    .dataframe tbody tr th {\n",
       "        vertical-align: top;\n",
       "    }\n",
       "\n",
       "    .dataframe thead th {\n",
       "        text-align: right;\n",
       "    }\n",
       "</style>\n",
       "<table border=\"1\" class=\"dataframe\">\n",
       "  <thead>\n",
       "    <tr style=\"text-align: right;\">\n",
       "      <th></th>\n",
       "      <th>ds</th>\n",
       "      <th>yhat</th>\n",
       "      <th>yhat_lower</th>\n",
       "      <th>yhat_upper</th>\n",
       "    </tr>\n",
       "  </thead>\n",
       "  <tbody>\n",
       "    <tr>\n",
       "      <th>0</th>\n",
       "      <td>2019-02-08 00:00:00.618361519</td>\n",
       "      <td>2.886049e+07</td>\n",
       "      <td>-2.782402e+07</td>\n",
       "      <td>8.407591e+07</td>\n",
       "    </tr>\n",
       "    <tr>\n",
       "      <th>1</th>\n",
       "      <td>2019-02-08 00:00:01.618192040</td>\n",
       "      <td>2.879273e+07</td>\n",
       "      <td>-2.696613e+07</td>\n",
       "      <td>8.310702e+07</td>\n",
       "    </tr>\n",
       "    <tr>\n",
       "      <th>2</th>\n",
       "      <td>2019-02-08 00:00:02.618220910</td>\n",
       "      <td>2.872495e+07</td>\n",
       "      <td>-2.016033e+07</td>\n",
       "      <td>8.465563e+07</td>\n",
       "    </tr>\n",
       "    <tr>\n",
       "      <th>3</th>\n",
       "      <td>2019-02-08 00:00:03.618122116</td>\n",
       "      <td>2.865718e+07</td>\n",
       "      <td>-2.804724e+07</td>\n",
       "      <td>8.149380e+07</td>\n",
       "    </tr>\n",
       "    <tr>\n",
       "      <th>4</th>\n",
       "      <td>2019-02-08 00:00:04.618005071</td>\n",
       "      <td>2.858941e+07</td>\n",
       "      <td>-2.702598e+07</td>\n",
       "      <td>7.988436e+07</td>\n",
       "    </tr>\n",
       "  </tbody>\n",
       "</table>\n",
       "</div>"
      ],
      "text/plain": [
       "                             ds          yhat    yhat_lower    yhat_upper\n",
       "0 2019-02-08 00:00:00.618361519  2.886049e+07 -2.782402e+07  8.407591e+07\n",
       "1 2019-02-08 00:00:01.618192040  2.879273e+07 -2.696613e+07  8.310702e+07\n",
       "2 2019-02-08 00:00:02.618220910  2.872495e+07 -2.016033e+07  8.465563e+07\n",
       "3 2019-02-08 00:00:03.618122116  2.865718e+07 -2.804724e+07  8.149380e+07\n",
       "4 2019-02-08 00:00:04.618005071  2.858941e+07 -2.702598e+07  7.988436e+07"
      ]
     },
     "execution_count": 32,
     "metadata": {},
     "output_type": "execute_result"
    }
   ],
   "source": [
    "forecast[['ds', 'yhat','yhat_lower','yhat_upper']].head()"
   ]
  },
  {
   "cell_type": "code",
   "execution_count": 33,
   "metadata": {},
   "outputs": [
    {
     "data": {
      "image/png": "[encoded data removed]",
      "text/plain": [
       "<Figure size 720x432 with 1 Axes>"
      ]
     },
     "metadata": {},
     "output_type": "display_data"
    }
   ],
   "source": [
    "fig1 = m.plot(forecast)"
   ]
  },
  {
   "cell_type": "code",
   "execution_count": 34,
   "metadata": {},
   "outputs": [
    {
     "data": {
      "image/png": "[encoded data removed]",
      "text/plain": [
       "<Figure size 648x216 with 1 Axes>"
      ]
     },
     "metadata": {},
     "output_type": "display_data"
    }
   ],
   "source": [
    "fig2 = m.plot_components(forecast)"
   ]
  },
  {
   "cell_type": "code",
   "execution_count": null,
   "metadata": {},
   "outputs": [],
   "source": []
  }
 ],
 "metadata": {
  "kernelspec": {
   "display_name": "Python 3",
   "language": "python",
   "name": "python3"
  },
  "language_info": {
   "codemirror_mode": {
    "name": "ipython",
    "version": 3
   },
   "file_extension": ".py",
   "mimetype": "text/x-python",
   "name": "python",
   "nbconvert_exporter": "python",
   "pygments_lexer": "ipython3",
   "version": "3.7.2"
  }
 },
 "nbformat": 4,
 "nbformat_minor": 2
}
